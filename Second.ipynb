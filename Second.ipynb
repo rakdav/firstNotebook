{
 "cells": [
  {
   "cell_type": "code",
   "id": "initial_id",
   "metadata": {
    "collapsed": true,
    "ExecuteTime": {
     "end_time": "2025-09-24T08:15:17.275043Z",
     "start_time": "2025-09-24T08:15:17.267521Z"
    }
   },
   "source": "print(\"ds\")",
   "outputs": [
    {
     "name": "stdout",
     "output_type": "stream",
     "text": [
      "ds\n"
     ]
    }
   ],
   "execution_count": 1
  },
  {
   "metadata": {},
   "cell_type": "markdown",
   "source": "Массив содержит четное количество элементов. Напишите программу, которая сортирует первую половину массива по возрастанию, а вторую – по убыванию. Каждый элемент должен остаться в «своей» половине. \n",
   "id": "255e4bb641123371"
  },
  {
   "metadata": {
    "ExecuteTime": {
     "end_time": "2025-09-24T09:43:33.105246Z",
     "start_time": "2025-09-24T09:43:30.122708Z"
    }
   },
   "cell_type": "code",
   "source": [
    "alfabet=dict()\n",
    "text=input(\"Введите текст:\")\n",
    "for i in text:\n",
    "        if i not in alfabet:\n",
    "                alfabet[i]=1\n",
    "        else:\n",
    "            alfabet[i]+=1\n",
    "print(alfabet)"
   ],
   "id": "dcc847685ad77388",
   "outputs": [
    {
     "name": "stdout",
     "output_type": "stream",
     "text": [
      "{'а': 9, 'в': 9, 'п': 8, ' ': 1}\n"
     ]
    }
   ],
   "execution_count": 7
  }
 ],
 "metadata": {
  "kernelspec": {
   "display_name": "Python 3",
   "language": "python",
   "name": "python3"
  },
  "language_info": {
   "codemirror_mode": {
    "name": "ipython",
    "version": 2
   },
   "file_extension": ".py",
   "mimetype": "text/x-python",
   "name": "python",
   "nbconvert_exporter": "python",
   "pygments_lexer": "ipython2",
   "version": "2.7.6"
  }
 },
 "nbformat": 4,
 "nbformat_minor": 5
}
