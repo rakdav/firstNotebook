{
 "cells": [
  {
   "cell_type": "code",
   "id": "initial_id",
   "metadata": {
    "collapsed": true,
    "ExecuteTime": {
     "end_time": "2025-10-10T11:46:25.743125Z",
     "start_time": "2025-10-10T11:46:25.737998Z"
    }
   },
   "source": [
    "from random import randint\n",
    "\n",
    "import mypackage.m1 as m1\n",
    "import mypackage.m2 as m2\n",
    "result=m1.add(6,9)\n",
    "print(result)"
   ],
   "outputs": [
    {
     "name": "stdout",
     "output_type": "stream",
     "text": [
      "15\n"
     ]
    }
   ],
   "execution_count": 4
  },
  {
   "metadata": {
    "ExecuteTime": {
     "end_time": "2025-10-10T11:46:27.722606Z",
     "start_time": "2025-10-10T11:46:27.718031Z"
    }
   },
   "cell_type": "code",
   "source": "m2.run()",
   "id": "ae9bfb4bcc24a36a",
   "outputs": [
    {
     "name": "stdout",
     "output_type": "stream",
     "text": [
      "Файл записан\n"
     ]
    }
   ],
   "execution_count": 5
  },
  {
   "metadata": {
    "ExecuteTime": {
     "end_time": "2025-10-10T12:27:24.334489Z",
     "start_time": "2025-10-10T12:27:24.330370Z"
    }
   },
   "cell_type": "code",
   "source": "",
   "id": "596de1b805ea75a",
   "outputs": [
    {
     "name": "stdout",
     "output_type": "stream",
     "text": [
      "1\n",
      "3\n"
     ]
    }
   ],
   "execution_count": 18
  },
  {
   "metadata": {
    "ExecuteTime": {
     "end_time": "2025-10-10T12:49:34.479019Z",
     "start_time": "2025-10-10T12:49:34.472251Z"
    }
   },
   "cell_type": "code",
   "source": [
    "m = ((2, 3, 5),(7, 1, 6),(9, 4, 8))\n",
    "\n",
    "# поиск максимума и минимума\n",
    "max_val = m[0][0]\n",
    "min_val = m[0][0]\n",
    "row_index = 0\n",
    "col_index = 0\n",
    "print(len(m))\n",
    "for i in range(len(m)):\n",
    "    for j in range(len(m[i])):\n",
    "        if m[i][j] > max_val:\n",
    "            max_val = m[i][j]\n",
    "            row_index = i\n",
    "        if m[i][j] < min_val:\n",
    "            min_val = m[i][j]\n",
    "            col_index = j\n",
    "row = m[row_index]\n",
    "col = []\n",
    "for k in range(len(m)):\n",
    "    col.append(m[k][col_index])\n",
    "# скалярное произведение\n",
    "scalar = 0\n",
    "for x in range(len(row)):\n",
    "    scalar = scalar + row[x] * col[x]\n",
    "\n",
    "print(scalar)"
   ],
   "id": "73ac2f1e54256225",
   "outputs": [
    {
     "name": "stdout",
     "output_type": "stream",
     "text": [
      "3\n",
      "63\n"
     ]
    }
   ],
   "execution_count": 56
  }
 ],
 "metadata": {
  "kernelspec": {
   "display_name": "Python 3",
   "language": "python",
   "name": "python3"
  },
  "language_info": {
   "codemirror_mode": {
    "name": "ipython",
    "version": 2
   },
   "file_extension": ".py",
   "mimetype": "text/x-python",
   "name": "python",
   "nbconvert_exporter": "python",
   "pygments_lexer": "ipython2",
   "version": "2.7.6"
  }
 },
 "nbformat": 4,
 "nbformat_minor": 5
}
