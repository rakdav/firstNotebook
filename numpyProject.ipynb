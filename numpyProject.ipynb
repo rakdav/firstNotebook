{
 "cells": [
  {
   "cell_type": "code",
   "id": "initial_id",
   "metadata": {
    "collapsed": true,
    "ExecuteTime": {
     "end_time": "2025-10-24T10:44:15.257689Z",
     "start_time": "2025-10-24T10:44:15.251955Z"
    }
   },
   "source": [
    "import numpy as np\n",
    "a=[1,2,3]\n",
    "a"
   ],
   "outputs": [
    {
     "data": {
      "text/plain": [
       "[1, 2, 3]"
      ]
     },
     "execution_count": 5,
     "metadata": {},
     "output_type": "execute_result"
    }
   ],
   "execution_count": 5
  },
  {
   "metadata": {
    "ExecuteTime": {
     "end_time": "2025-10-24T10:44:21.138921Z",
     "start_time": "2025-10-24T10:44:21.132003Z"
    }
   },
   "cell_type": "code",
   "source": "np.array(a)",
   "id": "c780b8735e9b1129",
   "outputs": [
    {
     "data": {
      "text/plain": [
       "array([1, 2, 3])"
      ]
     },
     "execution_count": 6,
     "metadata": {},
     "output_type": "execute_result"
    }
   ],
   "execution_count": 6
  },
  {
   "metadata": {
    "ExecuteTime": {
     "end_time": "2025-10-24T10:45:17.297409Z",
     "start_time": "2025-10-24T10:45:17.289139Z"
    }
   },
   "cell_type": "code",
   "source": [
    "my_matrix=[[1,2,3],[4,5,6],[7,8,9]]\n",
    "my_matrix"
   ],
   "id": "ae80399df03f6080",
   "outputs": [
    {
     "data": {
      "text/plain": [
       "[[1, 2, 3], [4, 5, 6], [7, 8, 9]]"
      ]
     },
     "execution_count": 7,
     "metadata": {},
     "output_type": "execute_result"
    }
   ],
   "execution_count": 7
  },
  {
   "metadata": {
    "ExecuteTime": {
     "end_time": "2025-10-24T10:45:30.165246Z",
     "start_time": "2025-10-24T10:45:30.157862Z"
    }
   },
   "cell_type": "code",
   "source": "np.array(my_matrix)",
   "id": "8fcdf309c94c385e",
   "outputs": [
    {
     "data": {
      "text/plain": [
       "array([[1, 2, 3],\n",
       "       [4, 5, 6],\n",
       "       [7, 8, 9]])"
      ]
     },
     "execution_count": 8,
     "metadata": {},
     "output_type": "execute_result"
    }
   ],
   "execution_count": 8
  },
  {
   "metadata": {},
   "cell_type": "markdown",
   "source": "Встроенные методы для создания списков\n",
   "id": "a2dbb8ef52a855a6"
  },
  {
   "metadata": {
    "ExecuteTime": {
     "end_time": "2025-10-24T10:47:54.293568Z",
     "start_time": "2025-10-24T10:47:54.285786Z"
    }
   },
   "cell_type": "code",
   "source": [
    "#arange\n",
    "np.arange(0,10)"
   ],
   "id": "9ba945aae4caab5b",
   "outputs": [
    {
     "data": {
      "text/plain": [
       "array([0, 1, 2, 3, 4, 5, 6, 7, 8, 9])"
      ]
     },
     "execution_count": 9,
     "metadata": {},
     "output_type": "execute_result"
    }
   ],
   "execution_count": 9
  },
  {
   "metadata": {
    "ExecuteTime": {
     "end_time": "2025-10-24T10:48:19.192803Z",
     "start_time": "2025-10-24T10:48:19.186270Z"
    }
   },
   "cell_type": "code",
   "source": "np.arange(0,11,2)",
   "id": "5eeea10e52ee6fe1",
   "outputs": [
    {
     "data": {
      "text/plain": [
       "array([ 0,  2,  4,  6,  8, 10])"
      ]
     },
     "execution_count": 10,
     "metadata": {},
     "output_type": "execute_result"
    }
   ],
   "execution_count": 10
  },
  {
   "metadata": {
    "ExecuteTime": {
     "end_time": "2025-10-24T10:49:20.032887Z",
     "start_time": "2025-10-24T10:49:20.025512Z"
    }
   },
   "cell_type": "code",
   "source": "np.zeros(3)",
   "id": "5a3474b937fe9773",
   "outputs": [
    {
     "data": {
      "text/plain": [
       "array([0., 0., 0.])"
      ]
     },
     "execution_count": 11,
     "metadata": {},
     "output_type": "execute_result"
    }
   ],
   "execution_count": 11
  },
  {
   "metadata": {
    "ExecuteTime": {
     "end_time": "2025-10-24T10:49:38.492807Z",
     "start_time": "2025-10-24T10:49:38.487113Z"
    }
   },
   "cell_type": "code",
   "source": "np.zeros((2,3))",
   "id": "f0de84a821f936fa",
   "outputs": [
    {
     "data": {
      "text/plain": [
       "array([[0., 0., 0.],\n",
       "       [0., 0., 0.]])"
      ]
     },
     "execution_count": 12,
     "metadata": {},
     "output_type": "execute_result"
    }
   ],
   "execution_count": 12
  },
  {
   "metadata": {
    "ExecuteTime": {
     "end_time": "2025-10-24T10:50:25.720526Z",
     "start_time": "2025-10-24T10:50:25.713423Z"
    }
   },
   "cell_type": "code",
   "source": "np.ones(5)",
   "id": "d48f3f4ffd570972",
   "outputs": [
    {
     "data": {
      "text/plain": [
       "array([1., 1., 1., 1., 1.])"
      ]
     },
     "execution_count": 13,
     "metadata": {},
     "output_type": "execute_result"
    }
   ],
   "execution_count": 13
  },
  {
   "metadata": {
    "ExecuteTime": {
     "end_time": "2025-10-24T10:50:49.377157Z",
     "start_time": "2025-10-24T10:50:49.369590Z"
    }
   },
   "cell_type": "code",
   "source": "np.ones((5,5))",
   "id": "65fb1465ef2cbd82",
   "outputs": [
    {
     "data": {
      "text/plain": [
       "array([[1., 1., 1., 1., 1.],\n",
       "       [1., 1., 1., 1., 1.],\n",
       "       [1., 1., 1., 1., 1.],\n",
       "       [1., 1., 1., 1., 1.],\n",
       "       [1., 1., 1., 1., 1.]])"
      ]
     },
     "execution_count": 15,
     "metadata": {},
     "output_type": "execute_result"
    }
   ],
   "execution_count": 15
  },
  {
   "metadata": {
    "ExecuteTime": {
     "end_time": "2025-10-24T10:52:56.092099Z",
     "start_time": "2025-10-24T10:52:56.084524Z"
    }
   },
   "cell_type": "code",
   "source": "np.linspace(0,11,3)  ",
   "id": "aac14aacb751e018",
   "outputs": [
    {
     "data": {
      "text/plain": [
       "array([ 0. ,  5.5, 11. ])"
      ]
     },
     "execution_count": 18,
     "metadata": {},
     "output_type": "execute_result"
    }
   ],
   "execution_count": 18
  },
  {
   "metadata": {
    "ExecuteTime": {
     "end_time": "2025-10-24T10:53:29.721335Z",
     "start_time": "2025-10-24T10:53:29.714869Z"
    }
   },
   "cell_type": "code",
   "source": "np.linspace(0,5,20)",
   "id": "b4c66cdeaa1eff1f",
   "outputs": [
    {
     "data": {
      "text/plain": [
       "array([0.        , 0.26315789, 0.52631579, 0.78947368, 1.05263158,\n",
       "       1.31578947, 1.57894737, 1.84210526, 2.10526316, 2.36842105,\n",
       "       2.63157895, 2.89473684, 3.15789474, 3.42105263, 3.68421053,\n",
       "       3.94736842, 4.21052632, 4.47368421, 4.73684211, 5.        ])"
      ]
     },
     "execution_count": 19,
     "metadata": {},
     "output_type": "execute_result"
    }
   ],
   "execution_count": 19
  },
  {
   "metadata": {
    "ExecuteTime": {
     "end_time": "2025-10-24T10:53:56.019705Z",
     "start_time": "2025-10-24T10:53:56.012453Z"
    }
   },
   "cell_type": "code",
   "source": "np.linspace(0,5,21)",
   "id": "832e3d22c517f21",
   "outputs": [
    {
     "data": {
      "text/plain": [
       "array([0.  , 0.25, 0.5 , 0.75, 1.  , 1.25, 1.5 , 1.75, 2.  , 2.25, 2.5 ,\n",
       "       2.75, 3.  , 3.25, 3.5 , 3.75, 4.  , 4.25, 4.5 , 4.75, 5.  ])"
      ]
     },
     "execution_count": 20,
     "metadata": {},
     "output_type": "execute_result"
    }
   ],
   "execution_count": 20
  },
  {
   "metadata": {
    "ExecuteTime": {
     "end_time": "2025-10-24T10:54:30.002944Z",
     "start_time": "2025-10-24T10:54:29.996459Z"
    }
   },
   "cell_type": "code",
   "source": "np.eye(4)",
   "id": "9a83a617f4e0d411",
   "outputs": [
    {
     "data": {
      "text/plain": [
       "array([[1., 0., 0., 0.],\n",
       "       [0., 1., 0., 0.],\n",
       "       [0., 0., 1., 0.],\n",
       "       [0., 0., 0., 1.]])"
      ]
     },
     "execution_count": 21,
     "metadata": {},
     "output_type": "execute_result"
    }
   ],
   "execution_count": 21
  },
  {
   "metadata": {
    "ExecuteTime": {
     "end_time": "2025-10-24T10:56:31.222287Z",
     "start_time": "2025-10-24T10:56:31.216296Z"
    }
   },
   "cell_type": "code",
   "source": "np.random.rand(3)",
   "id": "691923a7e8d20603",
   "outputs": [
    {
     "data": {
      "text/plain": [
       "array([0.34706024, 0.07169389, 0.10442407])"
      ]
     },
     "execution_count": 22,
     "metadata": {},
     "output_type": "execute_result"
    }
   ],
   "execution_count": 22
  },
  {
   "metadata": {
    "ExecuteTime": {
     "end_time": "2025-10-24T10:56:52.893390Z",
     "start_time": "2025-10-24T10:56:52.887115Z"
    }
   },
   "cell_type": "code",
   "source": "np.random.rand(3,4)",
   "id": "9261d8fe74015e4e",
   "outputs": [
    {
     "data": {
      "text/plain": [
       "array([[0.35214333, 0.90856522, 0.53586412, 0.54794794],\n",
       "       [0.67373346, 0.60238631, 0.29070911, 0.23475544],\n",
       "       [0.55846565, 0.49062663, 0.71189801, 0.17001664]])"
      ]
     },
     "execution_count": 23,
     "metadata": {},
     "output_type": "execute_result"
    }
   ],
   "execution_count": 23
  },
  {
   "metadata": {
    "ExecuteTime": {
     "end_time": "2025-10-24T10:57:44.619064Z",
     "start_time": "2025-10-24T10:57:44.612512Z"
    }
   },
   "cell_type": "code",
   "source": "np.random.randn(2)",
   "id": "a0b9a2d4fcd6be6a",
   "outputs": [
    {
     "data": {
      "text/plain": [
       "array([-1.09404422,  0.90332977])"
      ]
     },
     "execution_count": 24,
     "metadata": {},
     "output_type": "execute_result"
    }
   ],
   "execution_count": 24
  },
  {
   "metadata": {
    "ExecuteTime": {
     "end_time": "2025-10-24T10:58:35.167888Z",
     "start_time": "2025-10-24T10:58:35.161028Z"
    }
   },
   "cell_type": "code",
   "source": "np.random.randn(5,5)",
   "id": "5fd3d98115d3c2e5",
   "outputs": [
    {
     "data": {
      "text/plain": [
       "array([[-0.40964638,  0.52343697, -1.02624882, -1.14187901,  0.31982323],\n",
       "       [ 0.4376994 , -0.3062229 , -0.24966802,  1.6577117 , -0.76641635],\n",
       "       [ 0.56328082, -0.82820774, -0.71761896, -0.90896892, -1.45977112],\n",
       "       [-0.03625966, -1.38512041, -0.05858841,  0.35346572,  0.50075895],\n",
       "       [-2.19711648,  0.12528154,  0.77221681, -0.13058866, -1.31787146]])"
      ]
     },
     "execution_count": 25,
     "metadata": {},
     "output_type": "execute_result"
    }
   ],
   "execution_count": 25
  },
  {
   "metadata": {
    "ExecuteTime": {
     "end_time": "2025-10-24T10:59:00.268066Z",
     "start_time": "2025-10-24T10:59:00.262102Z"
    }
   },
   "cell_type": "code",
   "source": "np.random.randint(1,100)",
   "id": "1e3e913e46f6c712",
   "outputs": [
    {
     "data": {
      "text/plain": [
       "4"
      ]
     },
     "execution_count": 26,
     "metadata": {},
     "output_type": "execute_result"
    }
   ],
   "execution_count": 26
  },
  {
   "metadata": {
    "ExecuteTime": {
     "end_time": "2025-10-24T10:59:28.229025Z",
     "start_time": "2025-10-24T10:59:28.222129Z"
    }
   },
   "cell_type": "code",
   "source": "np.random.randint(1,100,10)",
   "id": "5adecb72b829f6b2",
   "outputs": [
    {
     "data": {
      "text/plain": [
       "array([70, 82, 58,  4, 67, 86, 84,  1, 55,  8], dtype=int32)"
      ]
     },
     "execution_count": 27,
     "metadata": {},
     "output_type": "execute_result"
    }
   ],
   "execution_count": 27
  },
  {
   "metadata": {
    "ExecuteTime": {
     "end_time": "2025-10-24T11:02:50.699546Z",
     "start_time": "2025-10-24T11:02:50.693333Z"
    }
   },
   "cell_type": "code",
   "source": [
    "np.random.seed(42)\n",
    "np.random.rand(4)"
   ],
   "id": "cdcc0f961aee470e",
   "outputs": [
    {
     "data": {
      "text/plain": [
       "array([0.37454012, 0.95071431, 0.73199394, 0.59865848])"
      ]
     },
     "execution_count": 32,
     "metadata": {},
     "output_type": "execute_result"
    }
   ],
   "execution_count": 32
  },
  {
   "metadata": {
    "ExecuteTime": {
     "end_time": "2025-10-24T11:02:49.153565Z",
     "start_time": "2025-10-24T11:02:49.148064Z"
    }
   },
   "cell_type": "code",
   "source": [
    "np.random.seed(42)\n",
    "np.random.rand(4)"
   ],
   "id": "602e3b81a3f57022",
   "outputs": [
    {
     "data": {
      "text/plain": [
       "array([0.37454012, 0.95071431, 0.73199394, 0.59865848])"
      ]
     },
     "execution_count": 31,
     "metadata": {},
     "output_type": "execute_result"
    }
   ],
   "execution_count": 31
  },
  {
   "metadata": {
    "ExecuteTime": {
     "end_time": "2025-10-24T11:06:36.216147Z",
     "start_time": "2025-10-24T11:06:36.210206Z"
    }
   },
   "cell_type": "code",
   "source": [
    "arr=np.arange(15)\n",
    "arr"
   ],
   "id": "9b74e9fdeac03ecf",
   "outputs": [
    {
     "data": {
      "text/plain": [
       "array([ 0,  1,  2,  3,  4,  5,  6,  7,  8,  9, 10, 11, 12, 13, 14])"
      ]
     },
     "execution_count": 42,
     "metadata": {},
     "output_type": "execute_result"
    }
   ],
   "execution_count": 42
  },
  {
   "metadata": {
    "ExecuteTime": {
     "end_time": "2025-10-24T11:03:55.649863Z",
     "start_time": "2025-10-24T11:03:55.644245Z"
    }
   },
   "cell_type": "code",
   "source": "np.random.randint(0,50,10)",
   "id": "88ff4c0827e3aa9c",
   "outputs": [
    {
     "data": {
      "text/plain": [
       "array([38, 18, 22, 10, 10, 23, 35, 39, 23,  2], dtype=int32)"
      ]
     },
     "execution_count": 34,
     "metadata": {},
     "output_type": "execute_result"
    }
   ],
   "execution_count": 34
  },
  {
   "metadata": {
    "ExecuteTime": {
     "end_time": "2025-10-24T11:06:38.489062Z",
     "start_time": "2025-10-24T11:06:38.481428Z"
    }
   },
   "cell_type": "code",
   "source": "arr.reshape(3,5)",
   "id": "3a39b17df6fbf261",
   "outputs": [
    {
     "data": {
      "text/plain": [
       "array([[ 0,  1,  2,  3,  4],\n",
       "       [ 5,  6,  7,  8,  9],\n",
       "       [10, 11, 12, 13, 14]])"
      ]
     },
     "execution_count": 43,
     "metadata": {},
     "output_type": "execute_result"
    }
   ],
   "execution_count": 43
  },
  {
   "metadata": {
    "ExecuteTime": {
     "end_time": "2025-10-24T11:07:27.008066Z",
     "start_time": "2025-10-24T11:07:27.000771Z"
    }
   },
   "cell_type": "code",
   "source": [
    "ranarr = np.random.randint(0,50,10)\n",
    "ranarr"
   ],
   "id": "16e62fc8cd02d5fe",
   "outputs": [
    {
     "data": {
      "text/plain": [
       "array([21, 43, 24, 48, 26, 41, 27, 15, 14, 46], dtype=int32)"
      ]
     },
     "execution_count": 45,
     "metadata": {},
     "output_type": "execute_result"
    }
   ],
   "execution_count": 45
  },
  {
   "metadata": {
    "ExecuteTime": {
     "end_time": "2025-10-24T11:07:42.716475Z",
     "start_time": "2025-10-24T11:07:42.711374Z"
    }
   },
   "cell_type": "code",
   "source": "ranarr.max()",
   "id": "427efe5106088ab4",
   "outputs": [
    {
     "data": {
      "text/plain": [
       "np.int32(48)"
      ]
     },
     "execution_count": 46,
     "metadata": {},
     "output_type": "execute_result"
    }
   ],
   "execution_count": 46
  },
  {
   "metadata": {
    "ExecuteTime": {
     "end_time": "2025-10-24T11:07:54.935959Z",
     "start_time": "2025-10-24T11:07:54.930035Z"
    }
   },
   "cell_type": "code",
   "source": "ranarr.min()",
   "id": "b9a759e79a0fa8ba",
   "outputs": [
    {
     "data": {
      "text/plain": [
       "np.int32(14)"
      ]
     },
     "execution_count": 47,
     "metadata": {},
     "output_type": "execute_result"
    }
   ],
   "execution_count": 47
  },
  {
   "metadata": {
    "ExecuteTime": {
     "end_time": "2025-10-24T11:08:12.492539Z",
     "start_time": "2025-10-24T11:08:12.484547Z"
    }
   },
   "cell_type": "code",
   "source": "ranarr.argmax()",
   "id": "c32a631a15bcff01",
   "outputs": [
    {
     "data": {
      "text/plain": [
       "np.int64(3)"
      ]
     },
     "execution_count": 48,
     "metadata": {},
     "output_type": "execute_result"
    }
   ],
   "execution_count": 48
  },
  {
   "metadata": {
    "ExecuteTime": {
     "end_time": "2025-10-24T11:08:36.611293Z",
     "start_time": "2025-10-24T11:08:36.605167Z"
    }
   },
   "cell_type": "code",
   "source": "ranarr.argmin()",
   "id": "67e001c8c7b88f9c",
   "outputs": [
    {
     "data": {
      "text/plain": [
       "np.int64(8)"
      ]
     },
     "execution_count": 49,
     "metadata": {},
     "output_type": "execute_result"
    }
   ],
   "execution_count": 49
  },
  {
   "metadata": {
    "ExecuteTime": {
     "end_time": "2025-10-24T11:09:12.054280Z",
     "start_time": "2025-10-24T11:09:12.048892Z"
    }
   },
   "cell_type": "code",
   "source": "arr.shape",
   "id": "7796183000027d8",
   "outputs": [
    {
     "data": {
      "text/plain": [
       "(15,)"
      ]
     },
     "execution_count": 50,
     "metadata": {},
     "output_type": "execute_result"
    }
   ],
   "execution_count": 50
  },
  {
   "metadata": {
    "ExecuteTime": {
     "end_time": "2025-10-24T11:12:07.519892Z",
     "start_time": "2025-10-24T11:12:07.514865Z"
    }
   },
   "cell_type": "code",
   "source": "arr.reshape(1,15).shape",
   "id": "84a5458db6ec66b6",
   "outputs": [
    {
     "data": {
      "text/plain": [
       "(1, 15)"
      ]
     },
     "execution_count": 56,
     "metadata": {},
     "output_type": "execute_result"
    }
   ],
   "execution_count": 56
  },
  {
   "metadata": {
    "ExecuteTime": {
     "end_time": "2025-10-24T11:13:22.452386Z",
     "start_time": "2025-10-24T11:13:22.447021Z"
    }
   },
   "cell_type": "code",
   "source": "arr.reshape(15,1).shape",
   "id": "21e1351001ac63e5",
   "outputs": [
    {
     "data": {
      "text/plain": [
       "(15, 1)"
      ]
     },
     "execution_count": 58,
     "metadata": {},
     "output_type": "execute_result"
    }
   ],
   "execution_count": 58
  },
  {
   "metadata": {
    "ExecuteTime": {
     "end_time": "2025-10-24T11:14:30.259695Z",
     "start_time": "2025-10-24T11:14:30.249161Z"
    }
   },
   "cell_type": "code",
   "source": "arr.dtype",
   "id": "3640b0823db82566",
   "outputs": [
    {
     "data": {
      "text/plain": [
       "dtype('int64')"
      ]
     },
     "execution_count": 59,
     "metadata": {},
     "output_type": "execute_result"
    }
   ],
   "execution_count": 59
  },
  {
   "metadata": {
    "ExecuteTime": {
     "end_time": "2025-10-24T11:16:30.876363Z",
     "start_time": "2025-10-24T11:16:30.868988Z"
    }
   },
   "cell_type": "code",
   "source": [
    "arr2=np.array([1.2,4.8,3.2])\n",
    "arr2.dtype"
   ],
   "id": "3c5ff10108470079",
   "outputs": [
    {
     "data": {
      "text/plain": [
       "dtype('float64')"
      ]
     },
     "execution_count": 60,
     "metadata": {},
     "output_type": "execute_result"
    }
   ],
   "execution_count": 60
  },
  {
   "metadata": {
    "ExecuteTime": {
     "end_time": "2025-10-24T11:18:41.446306Z",
     "start_time": "2025-10-24T11:18:41.440752Z"
    }
   },
   "cell_type": "code",
   "source": [
    "mas=np.arange(0,11)\n",
    "mas"
   ],
   "id": "efadab6db93fb390",
   "outputs": [
    {
     "data": {
      "text/plain": [
       "array([ 0,  1,  2,  3,  4,  5,  6,  7,  8,  9, 10])"
      ]
     },
     "execution_count": 61,
     "metadata": {},
     "output_type": "execute_result"
    }
   ],
   "execution_count": 61
  },
  {
   "metadata": {
    "ExecuteTime": {
     "end_time": "2025-10-24T11:18:55.790850Z",
     "start_time": "2025-10-24T11:18:55.785394Z"
    }
   },
   "cell_type": "code",
   "source": "mas[8]",
   "id": "66d83ce2cf51776f",
   "outputs": [
    {
     "data": {
      "text/plain": [
       "np.int64(8)"
      ]
     },
     "execution_count": 62,
     "metadata": {},
     "output_type": "execute_result"
    }
   ],
   "execution_count": 62
  },
  {
   "metadata": {
    "ExecuteTime": {
     "end_time": "2025-10-24T11:21:07.662390Z",
     "start_time": "2025-10-24T11:21:07.658977Z"
    }
   },
   "cell_type": "code",
   "source": "mas[0:5]=90",
   "id": "714e2a001c8c8b79",
   "outputs": [],
   "execution_count": 66
  },
  {
   "metadata": {
    "ExecuteTime": {
     "end_time": "2025-10-24T11:21:09.835318Z",
     "start_time": "2025-10-24T11:21:09.830301Z"
    }
   },
   "cell_type": "code",
   "source": "mas",
   "id": "5c410dcf8e88a148",
   "outputs": [
    {
     "data": {
      "text/plain": [
       "array([90, 90, 90, 90, 90,  5,  6,  7,  8,  9, 10])"
      ]
     },
     "execution_count": 67,
     "metadata": {},
     "output_type": "execute_result"
    }
   ],
   "execution_count": 67
  },
  {
   "metadata": {
    "ExecuteTime": {
     "end_time": "2025-10-24T11:22:20.515467Z",
     "start_time": "2025-10-24T11:22:20.508228Z"
    }
   },
   "cell_type": "code",
   "source": [
    "arr_copy=mas.copy()\n",
    "arr_copy"
   ],
   "id": "96c974e995a69d09",
   "outputs": [
    {
     "data": {
      "text/plain": [
       "array([90, 90, 90, 90, 90,  5,  6,  7,  8,  9, 10])"
      ]
     },
     "execution_count": 68,
     "metadata": {},
     "output_type": "execute_result"
    }
   ],
   "execution_count": 68
  },
  {
   "metadata": {},
   "cell_type": "markdown",
   "source": "",
   "id": "f198260f39cd2eef"
  },
  {
   "metadata": {
    "ExecuteTime": {
     "end_time": "2025-10-24T11:25:39.708102Z",
     "start_time": "2025-10-24T11:25:39.701992Z"
    }
   },
   "cell_type": "code",
   "source": [
    "arr_2d=np.array([np.random.randint(1,100,5),np.random.randint(1,100,5),np.random.randint(1,100,5)])\n",
    "arr_2d"
   ],
   "id": "ee106f9a10aebc40",
   "outputs": [
    {
     "data": {
      "text/plain": [
       "array([[62, 51, 55, 64,  3],\n",
       "       [51,  7, 21, 73, 39],\n",
       "       [18,  4, 89, 60, 14]], dtype=int32)"
      ]
     },
     "execution_count": 71,
     "metadata": {},
     "output_type": "execute_result"
    }
   ],
   "execution_count": 71
  },
  {
   "metadata": {
    "ExecuteTime": {
     "end_time": "2025-10-24T11:26:08.108214Z",
     "start_time": "2025-10-24T11:26:08.101161Z"
    }
   },
   "cell_type": "code",
   "source": "arr_2d[1]",
   "id": "31247f377514cf83",
   "outputs": [
    {
     "data": {
      "text/plain": [
       "array([51,  7, 21, 73, 39], dtype=int32)"
      ]
     },
     "execution_count": 72,
     "metadata": {},
     "output_type": "execute_result"
    }
   ],
   "execution_count": 72
  },
  {
   "metadata": {
    "ExecuteTime": {
     "end_time": "2025-10-24T11:26:45.743810Z",
     "start_time": "2025-10-24T11:26:45.735475Z"
    }
   },
   "cell_type": "code",
   "source": "arr_2d[1][0]",
   "id": "b06d383bbce16fee",
   "outputs": [
    {
     "data": {
      "text/plain": [
       "np.int32(51)"
      ]
     },
     "execution_count": 73,
     "metadata": {},
     "output_type": "execute_result"
    }
   ],
   "execution_count": 73
  },
  {
   "metadata": {
    "ExecuteTime": {
     "end_time": "2025-10-24T11:30:31.922940Z",
     "start_time": "2025-10-24T11:30:31.918219Z"
    }
   },
   "cell_type": "code",
   "source": "arr_2d[2:,1:]",
   "id": "883e9de282beedcc",
   "outputs": [
    {
     "data": {
      "text/plain": [
       "array([[ 4, 89, 60, 14]], dtype=int32)"
      ]
     },
     "execution_count": 79,
     "metadata": {},
     "output_type": "execute_result"
    }
   ],
   "execution_count": 79
  },
  {
   "metadata": {
    "ExecuteTime": {
     "end_time": "2025-10-24T11:30:09.826746Z",
     "start_time": "2025-10-24T11:30:09.822343Z"
    }
   },
   "cell_type": "code",
   "source": "arr_2d[2,:]",
   "id": "d23bf8d20915c1a9",
   "outputs": [
    {
     "data": {
      "text/plain": [
       "array([18,  4, 89, 60, 14], dtype=int32)"
      ]
     },
     "execution_count": 78,
     "metadata": {},
     "output_type": "execute_result"
    }
   ],
   "execution_count": 78
  },
  {
   "metadata": {
    "ExecuteTime": {
     "end_time": "2025-10-24T11:48:06.432059Z",
     "start_time": "2025-10-24T11:48:06.426421Z"
    }
   },
   "cell_type": "code",
   "source": [
    "narr=np.arange(1,11)\n",
    "narr"
   ],
   "id": "cf2447d58ba27741",
   "outputs": [
    {
     "data": {
      "text/plain": [
       "array([ 1,  2,  3,  4,  5,  6,  7,  8,  9, 10])"
      ]
     },
     "execution_count": 84,
     "metadata": {},
     "output_type": "execute_result"
    }
   ],
   "execution_count": 84
  },
  {
   "metadata": {
    "ExecuteTime": {
     "end_time": "2025-10-24T11:49:27.047003Z",
     "start_time": "2025-10-24T11:49:27.037295Z"
    }
   },
   "cell_type": "code",
   "source": [
    "bool_arr=narr>4\n",
    "narr[bool_arr]"
   ],
   "id": "c027592adb78cb64",
   "outputs": [
    {
     "data": {
      "text/plain": [
       "array([ 5,  6,  7,  8,  9, 10])"
      ]
     },
     "execution_count": 88,
     "metadata": {},
     "output_type": "execute_result"
    }
   ],
   "execution_count": 88
  },
  {
   "metadata": {
    "ExecuteTime": {
     "end_time": "2025-10-24T11:49:57.719101Z",
     "start_time": "2025-10-24T11:49:57.713293Z"
    }
   },
   "cell_type": "code",
   "source": "narr[narr>2]",
   "id": "6aca787bb5baf804",
   "outputs": [
    {
     "data": {
      "text/plain": [
       "array([ 3,  4,  5,  6,  7,  8,  9, 10])"
      ]
     },
     "execution_count": 89,
     "metadata": {},
     "output_type": "execute_result"
    }
   ],
   "execution_count": 89
  },
  {
   "metadata": {
    "ExecuteTime": {
     "end_time": "2025-10-24T11:53:38.150513Z",
     "start_time": "2025-10-24T11:53:38.145691Z"
    }
   },
   "cell_type": "code",
   "source": [
    "arr3=np.arange(0,10)\n",
    "arr3"
   ],
   "id": "a1ed404da201ce1b",
   "outputs": [
    {
     "data": {
      "text/plain": [
       "array([0, 1, 2, 3, 4, 5, 6, 7, 8, 9])"
      ]
     },
     "execution_count": 90,
     "metadata": {},
     "output_type": "execute_result"
    }
   ],
   "execution_count": 90
  },
  {
   "metadata": {
    "ExecuteTime": {
     "end_time": "2025-10-24T11:53:56.727245Z",
     "start_time": "2025-10-24T11:53:56.722998Z"
    }
   },
   "cell_type": "code",
   "source": "arr3+arr3",
   "id": "d9b28980f3ffa868",
   "outputs": [
    {
     "data": {
      "text/plain": [
       "array([ 0,  2,  4,  6,  8, 10, 12, 14, 16, 18])"
      ]
     },
     "execution_count": 91,
     "metadata": {},
     "output_type": "execute_result"
    }
   ],
   "execution_count": 91
  },
  {
   "metadata": {
    "ExecuteTime": {
     "end_time": "2025-10-24T11:54:24.963802Z",
     "start_time": "2025-10-24T11:54:24.958141Z"
    }
   },
   "cell_type": "code",
   "source": "arr3*arr3",
   "id": "f84e86727e99eb04",
   "outputs": [
    {
     "data": {
      "text/plain": [
       "array([ 0,  1,  4,  9, 16, 25, 36, 49, 64, 81])"
      ]
     },
     "execution_count": 92,
     "metadata": {},
     "output_type": "execute_result"
    }
   ],
   "execution_count": 92
  },
  {
   "metadata": {
    "ExecuteTime": {
     "end_time": "2025-10-24T11:55:06.698563Z",
     "start_time": "2025-10-24T11:55:06.693193Z"
    }
   },
   "cell_type": "code",
   "source": "arr3-arr3",
   "id": "43ad7c605acedfa8",
   "outputs": [
    {
     "data": {
      "text/plain": [
       "array([0, 0, 0, 0, 0, 0, 0, 0, 0, 0])"
      ]
     },
     "execution_count": 93,
     "metadata": {},
     "output_type": "execute_result"
    }
   ],
   "execution_count": 93
  },
  {
   "metadata": {
    "ExecuteTime": {
     "end_time": "2025-10-24T11:55:59.085810Z",
     "start_time": "2025-10-24T11:55:59.081593Z"
    }
   },
   "cell_type": "code",
   "source": "arr3[1:]/arr3[1:]",
   "id": "ea3642da0419de00",
   "outputs": [
    {
     "data": {
      "text/plain": [
       "array([1., 1., 1., 1., 1., 1., 1., 1., 1.])"
      ]
     },
     "execution_count": 95,
     "metadata": {},
     "output_type": "execute_result"
    }
   ],
   "execution_count": 95
  },
  {
   "metadata": {
    "ExecuteTime": {
     "end_time": "2025-10-24T11:56:11.843142Z",
     "start_time": "2025-10-24T11:56:11.838620Z"
    }
   },
   "cell_type": "code",
   "source": "arr3**4",
   "id": "1c9e41d7ceb283c6",
   "outputs": [
    {
     "data": {
      "text/plain": [
       "array([   0,    1,   16,   81,  256,  625, 1296, 2401, 4096, 6561])"
      ]
     },
     "execution_count": 96,
     "metadata": {},
     "output_type": "execute_result"
    }
   ],
   "execution_count": 96
  },
  {
   "metadata": {
    "ExecuteTime": {
     "end_time": "2025-10-24T11:56:44.779259Z",
     "start_time": "2025-10-24T11:56:44.773369Z"
    }
   },
   "cell_type": "code",
   "source": "np.sqrt(arr3)",
   "id": "84ced43e3c1e020c",
   "outputs": [
    {
     "data": {
      "text/plain": [
       "array([0.        , 1.        , 1.41421356, 1.73205081, 2.        ,\n",
       "       2.23606798, 2.44948974, 2.64575131, 2.82842712, 3.        ])"
      ]
     },
     "execution_count": 97,
     "metadata": {},
     "output_type": "execute_result"
    }
   ],
   "execution_count": 97
  },
  {
   "metadata": {
    "ExecuteTime": {
     "end_time": "2025-10-24T11:57:01.272102Z",
     "start_time": "2025-10-24T11:57:01.266318Z"
    }
   },
   "cell_type": "code",
   "source": "np.exp(arr3)",
   "id": "bd957236d5d0a065",
   "outputs": [
    {
     "data": {
      "text/plain": [
       "array([1.00000000e+00, 2.71828183e+00, 7.38905610e+00, 2.00855369e+01,\n",
       "       5.45981500e+01, 1.48413159e+02, 4.03428793e+02, 1.09663316e+03,\n",
       "       2.98095799e+03, 8.10308393e+03])"
      ]
     },
     "execution_count": 98,
     "metadata": {},
     "output_type": "execute_result"
    }
   ],
   "execution_count": 98
  },
  {
   "metadata": {
    "ExecuteTime": {
     "end_time": "2025-10-24T11:57:17.159895Z",
     "start_time": "2025-10-24T11:57:17.153036Z"
    }
   },
   "cell_type": "code",
   "source": "np.sin(arr3)",
   "id": "7742c2dcab8b518c",
   "outputs": [
    {
     "data": {
      "text/plain": [
       "array([ 0.        ,  0.84147098,  0.90929743,  0.14112001, -0.7568025 ,\n",
       "       -0.95892427, -0.2794155 ,  0.6569866 ,  0.98935825,  0.41211849])"
      ]
     },
     "execution_count": 99,
     "metadata": {},
     "output_type": "execute_result"
    }
   ],
   "execution_count": 99
  },
  {
   "metadata": {
    "ExecuteTime": {
     "end_time": "2025-10-24T11:57:44.838779Z",
     "start_time": "2025-10-24T11:57:44.832795Z"
    }
   },
   "cell_type": "code",
   "source": "np.log(arr3[1:])",
   "id": "efd75650d8ae61f",
   "outputs": [
    {
     "data": {
      "text/plain": [
       "array([0.        , 0.69314718, 1.09861229, 1.38629436, 1.60943791,\n",
       "       1.79175947, 1.94591015, 2.07944154, 2.19722458])"
      ]
     },
     "execution_count": 101,
     "metadata": {},
     "output_type": "execute_result"
    }
   ],
   "execution_count": 101
  },
  {
   "metadata": {
    "ExecuteTime": {
     "end_time": "2025-10-24T11:58:14.729423Z",
     "start_time": "2025-10-24T11:58:14.717149Z"
    }
   },
   "cell_type": "code",
   "source": "arr3.sum()",
   "id": "441318dd787c1d28",
   "outputs": [
    {
     "data": {
      "text/plain": [
       "np.int64(45)"
      ]
     },
     "execution_count": 102,
     "metadata": {},
     "output_type": "execute_result"
    }
   ],
   "execution_count": 102
  },
  {
   "metadata": {
    "ExecuteTime": {
     "end_time": "2025-10-24T11:58:28.909342Z",
     "start_time": "2025-10-24T11:58:28.905061Z"
    }
   },
   "cell_type": "code",
   "source": "arr3.mean()",
   "id": "f2b2290f5b691556",
   "outputs": [
    {
     "data": {
      "text/plain": [
       "np.float64(4.5)"
      ]
     },
     "execution_count": 103,
     "metadata": {},
     "output_type": "execute_result"
    }
   ],
   "execution_count": 103
  },
  {
   "metadata": {
    "ExecuteTime": {
     "end_time": "2025-10-24T11:58:59.425239Z",
     "start_time": "2025-10-24T11:58:59.418950Z"
    }
   },
   "cell_type": "code",
   "source": "arr3.max()",
   "id": "aec3f8157e6364b0",
   "outputs": [
    {
     "data": {
      "text/plain": [
       "np.int64(9)"
      ]
     },
     "execution_count": 104,
     "metadata": {},
     "output_type": "execute_result"
    }
   ],
   "execution_count": 104
  },
  {
   "metadata": {
    "ExecuteTime": {
     "end_time": "2025-10-24T11:59:20.678912Z",
     "start_time": "2025-10-24T11:59:20.674692Z"
    }
   },
   "cell_type": "code",
   "source": "arr3.var()",
   "id": "9281e54b6fa0fa7",
   "outputs": [
    {
     "data": {
      "text/plain": [
       "np.float64(8.25)"
      ]
     },
     "execution_count": 105,
     "metadata": {},
     "output_type": "execute_result"
    }
   ],
   "execution_count": 105
  },
  {
   "metadata": {
    "ExecuteTime": {
     "end_time": "2025-10-24T11:59:32.735707Z",
     "start_time": "2025-10-24T11:59:32.729965Z"
    }
   },
   "cell_type": "code",
   "source": "arr3.min()",
   "id": "d1e0ad8ad6badd8c",
   "outputs": [
    {
     "data": {
      "text/plain": [
       "np.int64(0)"
      ]
     },
     "execution_count": 106,
     "metadata": {},
     "output_type": "execute_result"
    }
   ],
   "execution_count": 106
  },
  {
   "metadata": {
    "ExecuteTime": {
     "end_time": "2025-10-24T12:00:04.480850Z",
     "start_time": "2025-10-24T12:00:04.475971Z"
    }
   },
   "cell_type": "code",
   "source": "arr3.std()",
   "id": "12e9dce153daac6c",
   "outputs": [
    {
     "data": {
      "text/plain": [
       "np.float64(2.8722813232690143)"
      ]
     },
     "execution_count": 107,
     "metadata": {},
     "output_type": "execute_result"
    }
   ],
   "execution_count": 107
  },
  {
   "metadata": {
    "ExecuteTime": {
     "end_time": "2025-10-24T12:00:59.150144Z",
     "start_time": "2025-10-24T12:00:59.143490Z"
    }
   },
   "cell_type": "code",
   "source": "arr_2d",
   "id": "cdcc734a547a397e",
   "outputs": [
    {
     "data": {
      "text/plain": [
       "array([[62, 51, 55, 64,  3],\n",
       "       [51,  7, 21, 73, 39],\n",
       "       [18,  4, 89, 60, 14]], dtype=int32)"
      ]
     },
     "execution_count": 108,
     "metadata": {},
     "output_type": "execute_result"
    }
   ],
   "execution_count": 108
  },
  {
   "metadata": {
    "ExecuteTime": {
     "end_time": "2025-10-24T12:01:19.597694Z",
     "start_time": "2025-10-24T12:01:19.590555Z"
    }
   },
   "cell_type": "code",
   "source": "arr_2d.sum(axis=0)",
   "id": "7a1e3250a1a05cfb",
   "outputs": [
    {
     "data": {
      "text/plain": [
       "array([131,  62, 165, 197,  56])"
      ]
     },
     "execution_count": 109,
     "metadata": {},
     "output_type": "execute_result"
    }
   ],
   "execution_count": 109
  },
  {
   "metadata": {
    "ExecuteTime": {
     "end_time": "2025-10-24T12:02:15.286839Z",
     "start_time": "2025-10-24T12:02:15.281164Z"
    }
   },
   "cell_type": "code",
   "source": "arr_2d.sum(axis=1)",
   "id": "c57374f8a473278a",
   "outputs": [
    {
     "data": {
      "text/plain": [
       "array([235, 191, 185])"
      ]
     },
     "execution_count": 110,
     "metadata": {},
     "output_type": "execute_result"
    }
   ],
   "execution_count": 110
  },
  {
   "metadata": {
    "ExecuteTime": {
     "end_time": "2025-10-24T12:04:15.516608Z",
     "start_time": "2025-10-24T12:04:15.511244Z"
    }
   },
   "cell_type": "code",
   "source": "arr_2d[np.newaxis]",
   "id": "ef4c39d94379b0f",
   "outputs": [
    {
     "data": {
      "text/plain": [
       "array([[[62, 51, 55, 64,  3],\n",
       "        [51,  7, 21, 73, 39],\n",
       "        [18,  4, 89, 60, 14]]], dtype=int32)"
      ]
     },
     "execution_count": 112,
     "metadata": {},
     "output_type": "execute_result"
    }
   ],
   "execution_count": 112
  }
 ],
 "metadata": {
  "kernelspec": {
   "display_name": "Python 3",
   "language": "python",
   "name": "python3"
  },
  "language_info": {
   "codemirror_mode": {
    "name": "ipython",
    "version": 2
   },
   "file_extension": ".py",
   "mimetype": "text/x-python",
   "name": "python",
   "nbconvert_exporter": "python",
   "pygments_lexer": "ipython2",
   "version": "2.7.6"
  }
 },
 "nbformat": 4,
 "nbformat_minor": 5
}
