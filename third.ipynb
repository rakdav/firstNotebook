{
 "cells": [
  {
   "metadata": {
    "ExecuteTime": {
     "end_time": "2025-09-30T12:00:05.367419Z",
     "start_time": "2025-09-30T12:00:05.354271Z"
    }
   },
   "cell_type": "code",
   "source": [
    "class Person:\n",
    "    count=0\n",
    "    def __init__(self,name,age):\n",
    "        self.__name = name\n",
    "        self.__age = age\n",
    "    @property\n",
    "    def name(self):\n",
    "        return self.__name\n",
    "    @property\n",
    "    def age(self):\n",
    "        return self.__age\n",
    "    @age.setter\n",
    "    def age(self,age):\n",
    "        if 0<age<110:\n",
    "            self.__age = age\n",
    "        else:\n",
    "            print(\"Недопустимый вариант\")\n",
    "    def display_info(self):\n",
    "        print(f\"Имя: {self.__name}\\tВозраст: {self.__age}\")\n",
    "\n",
    "class Employee(Person):\n",
    "    def __init__(self,name,age,company,salary):\n",
    "        super().__init__(name,age)\n",
    "        self.__salary = salary\n",
    "        self.__company = company\n",
    "    def display_info(self):\n",
    "        super().display_info()\n",
    "        print(f\"{self.name} work at {self.__company}\")\n",
    "     \n",
    "tom=Person(\"Masha\",18)\n",
    "print(tom.age)\n",
    "print(tom.name)\n",
    "tom.age=34\n",
    "bob=Employee(\"Bob\",23,\"python\",5000)\n",
    "bob.display_info()\n",
    "tom.count+=1"
   ],
   "id": "c4d22dfa845b1720",
   "outputs": [
    {
     "name": "stdout",
     "output_type": "stream",
     "text": [
      "18\n",
      "Masha\n",
      "Имя: Bob\tВозраст: 23\n",
      "Bob work at python\n"
     ]
    }
   ],
   "execution_count": 28
  },
  {
   "metadata": {},
   "cell_type": "code",
   "outputs": [],
   "execution_count": null,
   "source": "",
   "id": "93f5d10923f72e13"
  }
 ],
 "metadata": {
  "kernelspec": {
   "display_name": "Python 3",
   "language": "python",
   "name": "python3"
  },
  "language_info": {
   "codemirror_mode": {
    "name": "ipython",
    "version": 2
   },
   "file_extension": ".py",
   "mimetype": "text/x-python",
   "name": "python",
   "nbconvert_exporter": "python",
   "pygments_lexer": "ipython2",
   "version": "2.7.6"
  }
 },
 "nbformat": 4,
 "nbformat_minor": 5
}
